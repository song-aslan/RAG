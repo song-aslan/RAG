{
 "cells": [
  {
   "cell_type": "markdown",
   "metadata": {},
   "source": [
    "#### Develop a RAG system using dataset Stanford Question Answering Dataset (SQuAD).\n",
    "\n",
    "- Without finetuning\n",
    "- link to data: https://rajpurkar.github.io/SQuAD-explorer/"
   ]
  },
  {
   "cell_type": "code",
   "execution_count": 1,
   "metadata": {},
   "outputs": [],
   "source": [
    "import warnings\n",
    "warnings.filterwarnings('ignore')\n",
    "\n",
    "import pandas as pd\n",
    "import numpy as np\n",
    "import datasets\n",
    "\n",
    "import json\n",
    "import os\n",
    "import time\n",
    "\n",
    "from openai import OpenAI\n",
    "import tiktoken\n",
    "# import seaborn as sns\n",
    "from tenacity import retry, wait_exponential\n",
    "from tqdm import tqdm\n",
    "from collections import defaultdict\n",
    "import matplotlib.pyplot as plt\n",
    "from sklearn.metrics import confusion_matrix\n",
    "\n",
    "tqdm.pandas()\n",
    "\n",
    "from dotenv import load_dotenv, find_dotenv\n",
    "\n",
    "import openai\n",
    "client = OpenAI(api_key=os.environ.get(\"OPENAI_API_KEY\", \"<your OpenAI API key if not set as env var>\"))\n"
   ]
  },
  {
   "cell_type": "code",
   "execution_count": 2,
   "metadata": {},
   "outputs": [],
   "source": [
    "# !mkdir -p ..data/local_cache\n",
    "# !wget https://rajpurkar.github.io/SQuAD-explorer/dataset/train-v2.0.json -O ..data/local_cache/train.json\n",
    "# !wget https://rajpurkar.github.io/SQuAD-explorer/dataset/dev-v2.0.json -O ..data/local_cache/dev.json"
   ]
  },
  {
   "cell_type": "code",
   "execution_count": 3,
   "metadata": {},
   "outputs": [],
   "source": [
    "def json_to_df(json_data):\n",
    "    qas = []\n",
    "    context = []\n",
    "    is_impossible = []\n",
    "    answers = []\n",
    "    titles = []\n",
    "\n",
    "    for article in json_data['data']:\n",
    "        title = article['title']\n",
    "        for paragraph in article['paragraphs']:\n",
    "            for qa in paragraph['qas']:\n",
    "                qas.append(qa['question'].strip())\n",
    "                context.append(paragraph['context'])\n",
    "                is_impossible.append(qa['is_impossible'])\n",
    "                \n",
    "                ans_list = []\n",
    "                for ans in qa['answers']:\n",
    "                    ans_list.append(ans['text'])\n",
    "                answers.append(ans_list)\n",
    "                titles.append(title)\n",
    "\n",
    "    df = pd.DataFrame({'title': titles, 'question': qas, 'context': context, 'is_impossible': is_impossible, 'answers': answers})\n",
    "    return df\n",
    "\n",
    "\n",
    "df = json_to_df(json.load(open('..data/local_cache/train.json')))\n",
    "\n",
    "\n"
   ]
  },
  {
   "cell_type": "code",
   "execution_count": 4,
   "metadata": {},
   "outputs": [
    {
     "data": {
      "text/html": [
       "<div>\n",
       "<style scoped>\n",
       "    .dataframe tbody tr th:only-of-type {\n",
       "        vertical-align: middle;\n",
       "    }\n",
       "\n",
       "    .dataframe tbody tr th {\n",
       "        vertical-align: top;\n",
       "    }\n",
       "\n",
       "    .dataframe thead th {\n",
       "        text-align: right;\n",
       "    }\n",
       "</style>\n",
       "<table border=\"1\" class=\"dataframe\">\n",
       "  <thead>\n",
       "    <tr style=\"text-align: right;\">\n",
       "      <th></th>\n",
       "      <th>title</th>\n",
       "      <th>question</th>\n",
       "      <th>context</th>\n",
       "      <th>is_impossible</th>\n",
       "      <th>answers</th>\n",
       "    </tr>\n",
       "  </thead>\n",
       "  <tbody>\n",
       "    <tr>\n",
       "      <th>0</th>\n",
       "      <td>Beyoncé</td>\n",
       "      <td>When did Beyonce start becoming popular?</td>\n",
       "      <td>Beyoncé Giselle Knowles-Carter (/biːˈjɒnseɪ/ b...</td>\n",
       "      <td>False</td>\n",
       "      <td>[in the late 1990s]</td>\n",
       "    </tr>\n",
       "    <tr>\n",
       "      <th>1</th>\n",
       "      <td>Beyoncé</td>\n",
       "      <td>What areas did Beyonce compete in when she was...</td>\n",
       "      <td>Beyoncé Giselle Knowles-Carter (/biːˈjɒnseɪ/ b...</td>\n",
       "      <td>False</td>\n",
       "      <td>[singing and dancing]</td>\n",
       "    </tr>\n",
       "    <tr>\n",
       "      <th>2</th>\n",
       "      <td>Beyoncé</td>\n",
       "      <td>When did Beyonce leave Destiny's Child and bec...</td>\n",
       "      <td>Beyoncé Giselle Knowles-Carter (/biːˈjɒnseɪ/ b...</td>\n",
       "      <td>False</td>\n",
       "      <td>[2003]</td>\n",
       "    </tr>\n",
       "    <tr>\n",
       "      <th>3</th>\n",
       "      <td>Beyoncé</td>\n",
       "      <td>In what city and state did Beyonce  grow up?</td>\n",
       "      <td>Beyoncé Giselle Knowles-Carter (/biːˈjɒnseɪ/ b...</td>\n",
       "      <td>False</td>\n",
       "      <td>[Houston, Texas]</td>\n",
       "    </tr>\n",
       "    <tr>\n",
       "      <th>4</th>\n",
       "      <td>Beyoncé</td>\n",
       "      <td>In which decade did Beyonce become famous?</td>\n",
       "      <td>Beyoncé Giselle Knowles-Carter (/biːˈjɒnseɪ/ b...</td>\n",
       "      <td>False</td>\n",
       "      <td>[late 1990s]</td>\n",
       "    </tr>\n",
       "  </tbody>\n",
       "</table>\n",
       "</div>"
      ],
      "text/plain": [
       "     title                                           question  \\\n",
       "0  Beyoncé           When did Beyonce start becoming popular?   \n",
       "1  Beyoncé  What areas did Beyonce compete in when she was...   \n",
       "2  Beyoncé  When did Beyonce leave Destiny's Child and bec...   \n",
       "3  Beyoncé       In what city and state did Beyonce  grow up?   \n",
       "4  Beyoncé         In which decade did Beyonce become famous?   \n",
       "\n",
       "                                             context  is_impossible  \\\n",
       "0  Beyoncé Giselle Knowles-Carter (/biːˈjɒnseɪ/ b...          False   \n",
       "1  Beyoncé Giselle Knowles-Carter (/biːˈjɒnseɪ/ b...          False   \n",
       "2  Beyoncé Giselle Knowles-Carter (/biːˈjɒnseɪ/ b...          False   \n",
       "3  Beyoncé Giselle Knowles-Carter (/biːˈjɒnseɪ/ b...          False   \n",
       "4  Beyoncé Giselle Knowles-Carter (/biːˈjɒnseɪ/ b...          False   \n",
       "\n",
       "                 answers  \n",
       "0    [in the late 1990s]  \n",
       "1  [singing and dancing]  \n",
       "2                 [2003]  \n",
       "3       [Houston, Texas]  \n",
       "4           [late 1990s]  "
      ]
     },
     "execution_count": 4,
     "metadata": {},
     "output_type": "execute_result"
    }
   ],
   "source": [
    "df.head()"
   ]
  },
  {
   "cell_type": "code",
   "execution_count": 5,
   "metadata": {},
   "outputs": [
    {
     "name": "stdout",
     "output_type": "stream",
     "text": [
      "<class 'pandas.core.frame.DataFrame'>\n",
      "RangeIndex: 130319 entries, 0 to 130318\n",
      "Data columns (total 5 columns):\n",
      " #   Column         Non-Null Count   Dtype \n",
      "---  ------         --------------   ----- \n",
      " 0   title          130319 non-null  object\n",
      " 1   question       130319 non-null  object\n",
      " 2   context        130319 non-null  object\n",
      " 3   is_impossible  130319 non-null  bool  \n",
      " 4   answers        130319 non-null  object\n",
      "dtypes: bool(1), object(4)\n",
      "memory usage: 4.1+ MB\n"
     ]
    }
   ],
   "source": [
    "df.info()"
   ]
  },
  {
   "cell_type": "code",
   "execution_count": 6,
   "metadata": {},
   "outputs": [
    {
     "data": {
      "text/plain": [
       "442"
      ]
     },
     "execution_count": 6,
     "metadata": {},
     "output_type": "execute_result"
    }
   ],
   "source": [
    "df['title'].nunique()"
   ]
  },
  {
   "cell_type": "code",
   "execution_count": 7,
   "metadata": {},
   "outputs": [
    {
     "data": {
      "text/plain": [
       "'Beyoncé Giselle Knowles-Carter (/biːˈjɒnseɪ/ bee-YON-say) (born September 4, 1981) is an American singer, songwriter, record producer and actress. Born and raised in Houston, Texas, she performed in various singing and dancing competitions as a child, and rose to fame in the late 1990s as lead singer of R&B girl-group Destiny\\'s Child. Managed by her father, Mathew Knowles, the group became one of the world\\'s best-selling girl groups of all time. Their hiatus saw the release of Beyoncé\\'s debut album, Dangerously in Love (2003), which established her as a solo artist worldwide, earned five Grammy Awards and featured the Billboard Hot 100 number-one singles \"Crazy in Love\" and \"Baby Boy\".'"
      ]
     },
     "execution_count": 7,
     "metadata": {},
     "output_type": "execute_result"
    }
   ],
   "source": [
    "df.iloc[0]['context']"
   ]
  },
  {
   "cell_type": "code",
   "execution_count": 8,
   "metadata": {},
   "outputs": [
    {
     "data": {
      "text/plain": [
       "'Beyoncé'"
      ]
     },
     "execution_count": 8,
     "metadata": {},
     "output_type": "execute_result"
    }
   ],
   "source": [
    "df.iloc[0]['title']"
   ]
  },
  {
   "cell_type": "code",
   "execution_count": 9,
   "metadata": {},
   "outputs": [
    {
     "data": {
      "text/plain": [
       "66"
      ]
     },
     "execution_count": 9,
     "metadata": {},
     "output_type": "execute_result"
    }
   ],
   "source": [
    "df[df['title'] == 'Beyoncé']['context'].nunique()"
   ]
  },
  {
   "cell_type": "code",
   "execution_count": 10,
   "metadata": {},
   "outputs": [
    {
     "data": {
      "text/plain": [
       "array(['Beyoncé', 'Frédéric_Chopin',\n",
       "       'Sino-Tibetan_relations_during_the_Ming_dynasty', 'IPod',\n",
       "       'The_Legend_of_Zelda:_Twilight_Princess', 'Spectre_(2015_film)',\n",
       "       '2008_Sichuan_earthquake', 'New_York_City',\n",
       "       'To_Kill_a_Mockingbird', 'Solar_energy', 'Kanye_West', 'Buddhism',\n",
       "       'American_Idol', 'Dog', '2008_Summer_Olympics_torch_relay',\n",
       "       'Genome', 'Comprehensive_school', 'Republic_of_the_Congo',\n",
       "       'Prime_minister', 'Institute_of_technology', 'Wayback_Machine',\n",
       "       'Dutch_Republic', 'Symbiosis', 'Canadian_Armed_Forces',\n",
       "       'Cardinal_(Catholicism)', 'Iranian_languages', 'Lighting',\n",
       "       'Separation_of_powers_under_the_United_States_Constitution',\n",
       "       'Architecture', 'Human_Development_Index', 'Southern_Europe',\n",
       "       'BBC_Television', 'Arnold_Schwarzenegger', 'Plymouth', 'Heresy',\n",
       "       'Warsaw_Pact', 'Materialism', 'Christian',\n",
       "       'Sony_Music_Entertainment', 'Oklahoma_City', 'Hunter-gatherer',\n",
       "       'United_Nations_Population_Fund',\n",
       "       'Russian_Soviet_Federative_Socialist_Republic',\n",
       "       'Alexander_Graham_Bell', 'Pub', 'Internet_service_provider',\n",
       "       'Comics', 'Saint_Helena', 'Aspirated_consonant', 'Hydrogen',\n",
       "       'Space_Race', 'Web_browser', 'BeiDou_Navigation_Satellite_System',\n",
       "       'Canon_law', 'Communications_in_Somalia', 'Catalan_language',\n",
       "       'Boston', 'Universal_Studios', 'Estonian_language', 'Paper',\n",
       "       'Adult_contemporary_music', 'Daylight_saving_time',\n",
       "       'Royal_Institute_of_British_Architects',\n",
       "       'National_Archives_and_Records_Administration', 'Tristan_da_Cunha',\n",
       "       'University_of_Kansas', 'Nanjing', 'Arena_Football_League',\n",
       "       'Dialect', 'Bern', 'Westminster_Abbey', 'Political_corruption',\n",
       "       'Classical_music', 'Slavs', 'Southampton', 'Treaty',\n",
       "       'Josip_Broz_Tito', 'Marshall_Islands', 'Szlachta', 'Virgil',\n",
       "       'Alps', 'Gene', 'Guinea-Bissau',\n",
       "       'List_of_numbered_streets_in_Manhattan', 'Brain', 'Near_East',\n",
       "       'Zhejiang', 'Ministry_of_Defence_(United_Kingdom)',\n",
       "       'High-definition_television', 'Wood', 'Somalis', 'Middle_Ages',\n",
       "       'Phonology', 'Computer', 'Black_people', 'The_Times', 'New_Delhi',\n",
       "       'Bird_migration', 'Atlantic_City,_New_Jersey', 'Immunology', 'MP3',\n",
       "       'House_music', 'Letter_case', 'Chihuahua_(state)',\n",
       "       'Imamah_(Shia_doctrine)', 'Pitch_(music)',\n",
       "       'England_national_football_team', 'Houston', 'Copper',\n",
       "       'Identity_(social_science)', 'Himachal_Pradesh', 'Communication',\n",
       "       'Grape', 'Computer_security', 'Orthodox_Judaism', 'Animal', 'Beer',\n",
       "       'Race_and_ethnicity_in_the_United_States_Census',\n",
       "       'United_States_dollar', 'Imperial_College_London', 'Hanover',\n",
       "       'Emotion', 'Everton_F.C.', 'Old_English', 'Aircraft_carrier',\n",
       "       'Federal_Aviation_Administration', 'Lancashire', 'Mesozoic',\n",
       "       'Videoconferencing', 'Gregorian_calendar', 'Xbox_360',\n",
       "       'Military_history_of_the_United_States', 'Hard_rock',\n",
       "       'Great_Plains', 'Infrared', 'Biodiversity', 'ASCII', 'Digestion',\n",
       "       'Gymnastics', 'FC_Barcelona', 'Federal_Bureau_of_Investigation',\n",
       "       'Mary_(mother_of_Jesus)', 'Melbourne', 'John,_King_of_England',\n",
       "       'Macintosh', 'Anti-aircraft_warfare', 'Sanskrit', 'Valencia',\n",
       "       'General_Electric', 'United_States_Army', 'Franco-Prussian_War',\n",
       "       'Adolescence', 'Antarctica', 'Eritrea', 'Uranium',\n",
       "       'Order_of_the_British_Empire', 'Circadian_rhythm', 'Elizabeth_II',\n",
       "       'Sexual_orientation', 'Dell',\n",
       "       'Capital_punishment_in_the_United_States', 'Age_of_Enlightenment',\n",
       "       'Nintendo_Entertainment_System', 'Athanasius_of_Alexandria',\n",
       "       'Seattle', 'Memory', 'Multiracial_American', 'Ashkenazi_Jews',\n",
       "       'Pharmaceutical_industry', 'Umayyad_Caliphate', 'Asphalt',\n",
       "       'Queen_Victoria', 'Freemasonry', 'Israel', 'Hellenistic_period',\n",
       "       'Bill_%26_Melinda_Gates_Foundation', 'Montevideo', 'Poultry',\n",
       "       'Dutch_language', 'Buckingham_Palace', 'Incandescent_light_bulb',\n",
       "       'Arsenal_F.C.', 'Clothing', 'Chicago_Cubs', 'Korean_War',\n",
       "       'Copyright_infringement', 'Greece', 'Royal_Dutch_Shell', 'Mammal',\n",
       "       'East_India_Company', 'Hokkien', 'Professional_wrestling',\n",
       "       'Film_speed', 'Mexico_City', 'Napoleon', 'Germans',\n",
       "       'Southeast_Asia', 'Brigham_Young_University', 'Department_store',\n",
       "       'Intellectual_property', 'Florida', 'Queen_(band)',\n",
       "       'Presbyterianism', 'Thuringia', 'Predation', 'Marvel_Comics',\n",
       "       'British_Empire', 'Botany', 'Madonna_(entertainer)',\n",
       "       'Law_of_the_United_States', 'Myanmar', 'Jews', 'Cotton',\n",
       "       'Data_compression', 'The_Sun_(United_Kingdom)', 'Pesticide',\n",
       "       'Somerset', 'Yale_University', 'Late_Middle_Ages',\n",
       "       'Ann_Arbor,_Michigan', 'Gothic_architecture', 'Cubism',\n",
       "       'Political_philosophy', 'Alloy', 'Norfolk_Island', 'Edmund_Burke',\n",
       "       'Samoa', 'Pope_Paul_VI', 'Electric_motor', 'Switzerland', 'Mali',\n",
       "       'Raleigh,_North_Carolina', 'Nutrition', 'Crimean_War',\n",
       "       'Nonprofit_organization', 'Literature', 'Avicenna',\n",
       "       'Chinese_characters', 'Bermuda', 'Nigeria', 'Utrecht',\n",
       "       'Molotov%E2%80%93Ribbentrop_Pact', 'Capacitor',\n",
       "       'History_of_science', 'Digimon', 'Glacier', 'Comcast',\n",
       "       'Tuberculosis', 'Affirmative_action_in_the_United_States',\n",
       "       'FA_Cup', 'New_Haven,_Connecticut', 'Alsace', 'Carnival',\n",
       "       'Baptists', 'Child_labour', 'North_Carolina', 'Heian_period',\n",
       "       'On_the_Origin_of_Species', 'Dissolution_of_the_Soviet_Union',\n",
       "       'Crucifixion_of_Jesus', 'Supreme_court', 'Textual_criticism',\n",
       "       'Gramophone_record', 'Turner_Classic_Movies', 'Hindu_philosophy',\n",
       "       'Political_party', 'A_cappella', 'Dominican_Order', 'Eton_College',\n",
       "       'Cork_(city)', 'Galicia_(Spain)', 'USB', 'Sichuan', 'Unicode',\n",
       "       'Detroit', 'London', 'Culture', 'Sahara', 'Rule_of_law', 'Tibet',\n",
       "       'Exhibition_game', 'Northwestern_University', 'Strasbourg',\n",
       "       'Oklahoma', 'History_of_India', 'Gamal_Abdel_Nasser',\n",
       "       'Pope_John_XXIII', 'Time', 'European_Central_Bank',\n",
       "       'St._John%27s,_Newfoundland_and_Labrador', 'John_von_Neumann',\n",
       "       'PlayStation_3', 'Royal_assent', 'Group_(mathematics)',\n",
       "       'Central_African_Republic', 'Asthma', 'LaserDisc', 'George_VI',\n",
       "       'Federalism', 'Annelid', 'God', 'War_on_Terror',\n",
       "       'Labour_Party_(UK)', 'Estonia', 'Alaska', 'Karl_Popper',\n",
       "       'Mandolin', 'Insect', 'Race_(human_categorization)', 'Paris',\n",
       "       'Apollo', 'United_States_presidential_election,_2004',\n",
       "       'Liberal_Party_of_Australia', 'Samurai', 'Software_testing',\n",
       "       'States_of_Germany', 'Glass', 'Planck_constant',\n",
       "       'Renewable_energy_commercialization', 'Palermo', 'Green', 'Zinc',\n",
       "       'Neoclassical_architecture', 'Serbo-Croatian', 'CBC_Television',\n",
       "       'Appalachian_Mountains', 'IBM', 'Energy', 'East_Prussia',\n",
       "       'Ottoman_Empire', 'Philosophy_of_space_and_time', 'Neolithic',\n",
       "       'Friedrich_Hayek', 'Diarrhea', 'Madrasa', 'Miami', 'Philadelphia',\n",
       "       'John_Kerry', 'Rajasthan', 'Guam', 'Empiricism', 'Idealism',\n",
       "       'Czech_language', 'Education', 'Tennessee', 'Post-punk',\n",
       "       'Canadian_football', 'Seven_Years%27_War', 'Richard_Feynman',\n",
       "       'Muammar_Gaddafi', 'Cyprus', 'Steven_Spielberg', 'Elevator',\n",
       "       'Neptune', 'Railway_electrification_system',\n",
       "       'Spanish_language_in_the_United_States',\n",
       "       'Charleston,_South_Carolina', 'The_Blitz',\n",
       "       'Endangered_Species_Act', 'Vacuum', 'Han_dynasty', 'Quran',\n",
       "       'Geography_of_the_United_States', 'Compact_disc', 'Transistor',\n",
       "       'Modern_history', '51st_state', 'Antenna_(radio)',\n",
       "       'Flowering_plant', 'Hyderabad', 'Santa_Monica,_California',\n",
       "       'Washington_University_in_St._Louis',\n",
       "       'Central_Intelligence_Agency', 'Pain', 'Database',\n",
       "       'Tucson,_Arizona', 'Armenia', 'Bacteria', 'Printed_circuit_board',\n",
       "       'Greeks', 'Premier_League', 'Roman_Republic', 'Pacific_War',\n",
       "       'San_Diego', 'Muslim_world', 'Iran', 'British_Isles',\n",
       "       'Association_football', 'Georgian_architecture', 'Liberia',\n",
       "       'Alfred_North_Whitehead', 'Antibiotics', 'Windows_8', 'Swaziland',\n",
       "       'Translation', 'Airport', 'Kievan_Rus%27',\n",
       "       'Super_Nintendo_Entertainment_System', 'Sumer', 'Tuvalu',\n",
       "       'Immaculate_Conception', 'Namibia', 'Russian_language',\n",
       "       'United_States_Air_Force', 'Light-emitting_diode', 'Great_power',\n",
       "       'Bird', 'Qing_dynasty', 'Indigenous_peoples_of_the_Americas',\n",
       "       'Red', 'Egypt', 'Mosaic', 'University', 'Religion_in_ancient_Rome',\n",
       "       'YouTube', 'Separation_of_church_and_state_in_the_United_States',\n",
       "       'Protestantism', 'Bras%C3%ADlia', 'Economy_of_Greece',\n",
       "       'Party_leaders_of_the_United_States_House_of_Representatives',\n",
       "       'Armenians', 'Jehovah%27s_Witnesses', 'Dwight_D._Eisenhower',\n",
       "       'The_Bronx', 'Financial_crisis_of_2007%E2%80%9308', 'Portugal',\n",
       "       'Humanism', 'Geological_history_of_Earth', 'Police', 'Genocide',\n",
       "       'Saint_Barth%C3%A9lemy', 'Tajikistan', 'University_of_Notre_Dame',\n",
       "       'Anthropology', 'Montana', 'Punjab,_Pakistan',\n",
       "       'Richmond,_Virginia', 'Infection', 'Hunting', 'Kathmandu',\n",
       "       'Myocardial_infarction', 'Matter'], dtype=object)"
      ]
     },
     "execution_count": 10,
     "metadata": {},
     "output_type": "execute_result"
    }
   ],
   "source": [
    "df['title'].unique()"
   ]
  },
  {
   "cell_type": "code",
   "execution_count": 11,
   "metadata": {},
   "outputs": [
    {
     "data": {
      "text/html": [
       "<div>\n",
       "<style scoped>\n",
       "    .dataframe tbody tr th:only-of-type {\n",
       "        vertical-align: middle;\n",
       "    }\n",
       "\n",
       "    .dataframe tbody tr th {\n",
       "        vertical-align: top;\n",
       "    }\n",
       "\n",
       "    .dataframe thead th {\n",
       "        text-align: right;\n",
       "    }\n",
       "</style>\n",
       "<table border=\"1\" class=\"dataframe\">\n",
       "  <thead>\n",
       "    <tr style=\"text-align: right;\">\n",
       "      <th></th>\n",
       "      <th>title</th>\n",
       "      <th>question</th>\n",
       "      <th>context</th>\n",
       "      <th>is_impossible</th>\n",
       "      <th>answers</th>\n",
       "    </tr>\n",
       "  </thead>\n",
       "  <tbody>\n",
       "    <tr>\n",
       "      <th>6547</th>\n",
       "      <td>Dog</td>\n",
       "      <td>What is the three word Latin name for domestic...</td>\n",
       "      <td>The domestic dog (Canis lupus familiaris or Ca...</td>\n",
       "      <td>False</td>\n",
       "      <td>[Canis lupus familiaris]</td>\n",
       "    </tr>\n",
       "    <tr>\n",
       "      <th>6548</th>\n",
       "      <td>Dog</td>\n",
       "      <td>What is Canis familiaris?</td>\n",
       "      <td>The domestic dog (Canis lupus familiaris or Ca...</td>\n",
       "      <td>False</td>\n",
       "      <td>[domestic dog]</td>\n",
       "    </tr>\n",
       "    <tr>\n",
       "      <th>6549</th>\n",
       "      <td>Dog</td>\n",
       "      <td>How long has the domestic dog been selectively...</td>\n",
       "      <td>The domestic dog (Canis lupus familiaris or Ca...</td>\n",
       "      <td>False</td>\n",
       "      <td>[millennia]</td>\n",
       "    </tr>\n",
       "    <tr>\n",
       "      <th>6550</th>\n",
       "      <td>Dog</td>\n",
       "      <td>Along with various behaviors and physical attr...</td>\n",
       "      <td>The domestic dog (Canis lupus familiaris or Ca...</td>\n",
       "      <td>False</td>\n",
       "      <td>[sensory capabilities]</td>\n",
       "    </tr>\n",
       "    <tr>\n",
       "      <th>6551</th>\n",
       "      <td>Dog</td>\n",
       "      <td>What decade had significant studies of dog gen...</td>\n",
       "      <td>Although initially thought to have originated ...</td>\n",
       "      <td>False</td>\n",
       "      <td>[2010s]</td>\n",
       "    </tr>\n",
       "    <tr>\n",
       "      <th>...</th>\n",
       "      <td>...</td>\n",
       "      <td>...</td>\n",
       "      <td>...</td>\n",
       "      <td>...</td>\n",
       "      <td>...</td>\n",
       "    </tr>\n",
       "    <tr>\n",
       "      <th>6934</th>\n",
       "      <td>Dog</td>\n",
       "      <td>Dog cognition has been studied on what kind of...</td>\n",
       "      <td>Although it is said that the \"dog is man's bes...</td>\n",
       "      <td>False</td>\n",
       "      <td>[pet dogs living in human homes.]</td>\n",
       "    </tr>\n",
       "    <tr>\n",
       "      <th>6935</th>\n",
       "      <td>Dog</td>\n",
       "      <td>What would wolves have gotten from living with...</td>\n",
       "      <td>Wolves, and their dog descendants, would have ...</td>\n",
       "      <td>False</td>\n",
       "      <td>[significant benefits]</td>\n",
       "    </tr>\n",
       "    <tr>\n",
       "      <th>6936</th>\n",
       "      <td>Dog</td>\n",
       "      <td>What has likely led to human success?</td>\n",
       "      <td>The cohabitation of dogs and humans would have...</td>\n",
       "      <td>False</td>\n",
       "      <td>[the domestication of dogs]</td>\n",
       "    </tr>\n",
       "    <tr>\n",
       "      <th>6937</th>\n",
       "      <td>Dog</td>\n",
       "      <td>Studies that people are better off with dogs h...</td>\n",
       "      <td>The scientific evidence is mixed as to whether...</td>\n",
       "      <td>False</td>\n",
       "      <td>[poorly controlled]</td>\n",
       "    </tr>\n",
       "    <tr>\n",
       "      <th>6938</th>\n",
       "      <td>Dog</td>\n",
       "      <td>People who have cats or dogs make fewer visits...</td>\n",
       "      <td>The scientific evidence is mixed as to whether...</td>\n",
       "      <td>False</td>\n",
       "      <td>[to the doctor]</td>\n",
       "    </tr>\n",
       "  </tbody>\n",
       "</table>\n",
       "<p>392 rows × 5 columns</p>\n",
       "</div>"
      ],
      "text/plain": [
       "     title                                           question  \\\n",
       "6547   Dog  What is the three word Latin name for domestic...   \n",
       "6548   Dog                          What is Canis familiaris?   \n",
       "6549   Dog  How long has the domestic dog been selectively...   \n",
       "6550   Dog  Along with various behaviors and physical attr...   \n",
       "6551   Dog  What decade had significant studies of dog gen...   \n",
       "...    ...                                                ...   \n",
       "6934   Dog  Dog cognition has been studied on what kind of...   \n",
       "6935   Dog  What would wolves have gotten from living with...   \n",
       "6936   Dog              What has likely led to human success?   \n",
       "6937   Dog  Studies that people are better off with dogs h...   \n",
       "6938   Dog  People who have cats or dogs make fewer visits...   \n",
       "\n",
       "                                                context  is_impossible  \\\n",
       "6547  The domestic dog (Canis lupus familiaris or Ca...          False   \n",
       "6548  The domestic dog (Canis lupus familiaris or Ca...          False   \n",
       "6549  The domestic dog (Canis lupus familiaris or Ca...          False   \n",
       "6550  The domestic dog (Canis lupus familiaris or Ca...          False   \n",
       "6551  Although initially thought to have originated ...          False   \n",
       "...                                                 ...            ...   \n",
       "6934  Although it is said that the \"dog is man's bes...          False   \n",
       "6935  Wolves, and their dog descendants, would have ...          False   \n",
       "6936  The cohabitation of dogs and humans would have...          False   \n",
       "6937  The scientific evidence is mixed as to whether...          False   \n",
       "6938  The scientific evidence is mixed as to whether...          False   \n",
       "\n",
       "                                answers  \n",
       "6547           [Canis lupus familiaris]  \n",
       "6548                     [domestic dog]  \n",
       "6549                        [millennia]  \n",
       "6550             [sensory capabilities]  \n",
       "6551                            [2010s]  \n",
       "...                                 ...  \n",
       "6934  [pet dogs living in human homes.]  \n",
       "6935             [significant benefits]  \n",
       "6936        [the domestication of dogs]  \n",
       "6937                [poorly controlled]  \n",
       "6938                    [to the doctor]  \n",
       "\n",
       "[392 rows x 5 columns]"
      ]
     },
     "execution_count": 11,
     "metadata": {},
     "output_type": "execute_result"
    }
   ],
   "source": [
    "df[df['title']=='Dog']"
   ]
  },
  {
   "cell_type": "code",
   "execution_count": 12,
   "metadata": {},
   "outputs": [
    {
     "data": {
      "text/plain": [
       "75"
      ]
     },
     "execution_count": 12,
     "metadata": {},
     "output_type": "execute_result"
    }
   ],
   "source": [
    "df[df['title']=='Dog']['context'].nunique()"
   ]
  },
  {
   "cell_type": "code",
   "execution_count": 13,
   "metadata": {},
   "outputs": [
    {
     "name": "stdout",
     "output_type": "stream",
     "text": [
      "<class 'pandas.core.frame.DataFrame'>\n",
      "Index: 392 entries, 6547 to 6938\n",
      "Data columns (total 5 columns):\n",
      " #   Column         Non-Null Count  Dtype \n",
      "---  ------         --------------  ----- \n",
      " 0   title          392 non-null    object\n",
      " 1   question       392 non-null    object\n",
      " 2   context        392 non-null    object\n",
      " 3   is_impossible  392 non-null    bool  \n",
      " 4   answers        392 non-null    object\n",
      "dtypes: bool(1), object(4)\n",
      "memory usage: 15.7+ KB\n"
     ]
    }
   ],
   "source": [
    "df_qa = df[df['title']=='Dog']\n",
    "\n",
    "df_qa.info()"
   ]
  },
  {
   "cell_type": "code",
   "execution_count": 14,
   "metadata": {},
   "outputs": [
    {
     "name": "stdout",
     "output_type": "stream",
     "text": [
      "['Canis lupus familiaris']\n"
     ]
    }
   ],
   "source": [
    "for item in df_qa['answers'].values[:1]:\n",
    "    print(item)"
   ]
  },
  {
   "cell_type": "code",
   "execution_count": 15,
   "metadata": {},
   "outputs": [],
   "source": [
    "def get_answer(answer_list):\n",
    "    return answer_list[0]"
   ]
  },
  {
   "cell_type": "code",
   "execution_count": 16,
   "metadata": {},
   "outputs": [],
   "source": [
    "df_qa['id'] = df_qa.reset_index().index\n",
    "\n",
    "df_qa['instruction'] = 'Answer the following questions based on the given context only. Do not use any external information. If the question cannot be answered based on the given context, return \"it is impossible\".'\n",
    "# Create a new 'first_answer' column\n",
    "df_qa['answer'] = df_qa['answers'].apply(lambda x: x[0] if len(x) > 0 else np.nan)\n"
   ]
  },
  {
   "cell_type": "code",
   "execution_count": 17,
   "metadata": {},
   "outputs": [
    {
     "data": {
      "text/plain": [
       "0"
      ]
     },
     "execution_count": 17,
     "metadata": {},
     "output_type": "execute_result"
    }
   ],
   "source": [
    "df_qa['answer'].isna().sum()"
   ]
  },
  {
   "cell_type": "code",
   "execution_count": 18,
   "metadata": {},
   "outputs": [
    {
     "data": {
      "text/plain": [
       "Index(['title', 'question', 'context', 'is_impossible', 'answers', 'id',\n",
       "       'instruction', 'answer'],\n",
       "      dtype='object')"
      ]
     },
     "execution_count": 18,
     "metadata": {},
     "output_type": "execute_result"
    }
   ],
   "source": [
    "df_qa.columns"
   ]
  },
  {
   "cell_type": "code",
   "execution_count": 19,
   "metadata": {},
   "outputs": [],
   "source": [
    "df_qa = df_qa[['id', 'title', 'question', 'context', 'instruction', 'answer', 'is_impossible']]"
   ]
  },
  {
   "cell_type": "code",
   "execution_count": 20,
   "metadata": {},
   "outputs": [
    {
     "data": {
      "text/html": [
       "<div>\n",
       "<style scoped>\n",
       "    .dataframe tbody tr th:only-of-type {\n",
       "        vertical-align: middle;\n",
       "    }\n",
       "\n",
       "    .dataframe tbody tr th {\n",
       "        vertical-align: top;\n",
       "    }\n",
       "\n",
       "    .dataframe thead th {\n",
       "        text-align: right;\n",
       "    }\n",
       "</style>\n",
       "<table border=\"1\" class=\"dataframe\">\n",
       "  <thead>\n",
       "    <tr style=\"text-align: right;\">\n",
       "      <th></th>\n",
       "      <th>id</th>\n",
       "      <th>title</th>\n",
       "      <th>question</th>\n",
       "      <th>context</th>\n",
       "      <th>instruction</th>\n",
       "      <th>answer</th>\n",
       "      <th>is_impossible</th>\n",
       "    </tr>\n",
       "  </thead>\n",
       "  <tbody>\n",
       "    <tr>\n",
       "      <th>6547</th>\n",
       "      <td>0</td>\n",
       "      <td>Dog</td>\n",
       "      <td>What is the three word Latin name for domestic...</td>\n",
       "      <td>The domestic dog (Canis lupus familiaris or Ca...</td>\n",
       "      <td>Answer the following questions based on the gi...</td>\n",
       "      <td>Canis lupus familiaris</td>\n",
       "      <td>False</td>\n",
       "    </tr>\n",
       "    <tr>\n",
       "      <th>6548</th>\n",
       "      <td>1</td>\n",
       "      <td>Dog</td>\n",
       "      <td>What is Canis familiaris?</td>\n",
       "      <td>The domestic dog (Canis lupus familiaris or Ca...</td>\n",
       "      <td>Answer the following questions based on the gi...</td>\n",
       "      <td>domestic dog</td>\n",
       "      <td>False</td>\n",
       "    </tr>\n",
       "    <tr>\n",
       "      <th>6549</th>\n",
       "      <td>2</td>\n",
       "      <td>Dog</td>\n",
       "      <td>How long has the domestic dog been selectively...</td>\n",
       "      <td>The domestic dog (Canis lupus familiaris or Ca...</td>\n",
       "      <td>Answer the following questions based on the gi...</td>\n",
       "      <td>millennia</td>\n",
       "      <td>False</td>\n",
       "    </tr>\n",
       "    <tr>\n",
       "      <th>6550</th>\n",
       "      <td>3</td>\n",
       "      <td>Dog</td>\n",
       "      <td>Along with various behaviors and physical attr...</td>\n",
       "      <td>The domestic dog (Canis lupus familiaris or Ca...</td>\n",
       "      <td>Answer the following questions based on the gi...</td>\n",
       "      <td>sensory capabilities</td>\n",
       "      <td>False</td>\n",
       "    </tr>\n",
       "    <tr>\n",
       "      <th>6551</th>\n",
       "      <td>4</td>\n",
       "      <td>Dog</td>\n",
       "      <td>What decade had significant studies of dog gen...</td>\n",
       "      <td>Although initially thought to have originated ...</td>\n",
       "      <td>Answer the following questions based on the gi...</td>\n",
       "      <td>2010s</td>\n",
       "      <td>False</td>\n",
       "    </tr>\n",
       "  </tbody>\n",
       "</table>\n",
       "</div>"
      ],
      "text/plain": [
       "      id title                                           question  \\\n",
       "6547   0   Dog  What is the three word Latin name for domestic...   \n",
       "6548   1   Dog                          What is Canis familiaris?   \n",
       "6549   2   Dog  How long has the domestic dog been selectively...   \n",
       "6550   3   Dog  Along with various behaviors and physical attr...   \n",
       "6551   4   Dog  What decade had significant studies of dog gen...   \n",
       "\n",
       "                                                context  \\\n",
       "6547  The domestic dog (Canis lupus familiaris or Ca...   \n",
       "6548  The domestic dog (Canis lupus familiaris or Ca...   \n",
       "6549  The domestic dog (Canis lupus familiaris or Ca...   \n",
       "6550  The domestic dog (Canis lupus familiaris or Ca...   \n",
       "6551  Although initially thought to have originated ...   \n",
       "\n",
       "                                            instruction  \\\n",
       "6547  Answer the following questions based on the gi...   \n",
       "6548  Answer the following questions based on the gi...   \n",
       "6549  Answer the following questions based on the gi...   \n",
       "6550  Answer the following questions based on the gi...   \n",
       "6551  Answer the following questions based on the gi...   \n",
       "\n",
       "                      answer  is_impossible  \n",
       "6547  Canis lupus familiaris          False  \n",
       "6548            domestic dog          False  \n",
       "6549               millennia          False  \n",
       "6550    sensory capabilities          False  \n",
       "6551                   2010s          False  "
      ]
     },
     "execution_count": 20,
     "metadata": {},
     "output_type": "execute_result"
    }
   ],
   "source": [
    "df_qa.head()"
   ]
  },
  {
   "cell_type": "code",
   "execution_count": 21,
   "metadata": {},
   "outputs": [],
   "source": [
    "from llama_index.core import Document\n",
    "\n",
    "documents = []\n",
    "for index, row in df_qa.iterrows():\n",
    "    metadata = {\n",
    "        \"question_id\": row.get(\"id\"),\n",
    "        \"instruction\": row.get(\"instruction\"),\n",
    "        \"answer\": row.get(\"answer\"),\n",
    "        \"context\": row.get(\"context\"),\n",
    "    }\n",
    "    documents.append(\n",
    "        Document(\n",
    "            text=row.get(\"question\"),\n",
    "            metadata=metadata,\n",
    "            id=row.get(\"id\")\n",
    "        )\n",
    "    )\n"
   ]
  },
  {
   "cell_type": "code",
   "execution_count": 22,
   "metadata": {},
   "outputs": [
    {
     "data": {
      "text/plain": [
       "({'question_id': 0,\n",
       "  'instruction': 'Answer the following questions based on the given context only. Do not use any external information. If the question cannot be answered based on the given context, return \"it is impossible\".',\n",
       "  'answer': 'Canis lupus familiaris',\n",
       "  'context': 'The domestic dog (Canis lupus familiaris or Canis familiaris) is a domesticated canid which has been selectively bred for millennia for various behaviors, sensory capabilities, and physical attributes.'},\n",
       " 'What is the three word Latin name for domesticated dogs?',\n",
       " llama_index.core.schema.Document)"
      ]
     },
     "execution_count": 22,
     "metadata": {},
     "output_type": "execute_result"
    }
   ],
   "source": [
    "documents[0].metadata, documents[0].text, type(documents[0])"
   ]
  },
  {
   "cell_type": "code",
   "execution_count": 23,
   "metadata": {},
   "outputs": [],
   "source": [
    "# import requests\n",
    "# \n",
    "# r = requests.get('https://gist.githubusercontent.com/aelbuni/a2b67f43af40f81b7da30c9ff79fb90a/raw/# 816bb5162679b5e6a22fa8b2b35ee0a\n",
    "# c7fe2a3ea/multilingual_embedding.py')\n",
    "# \n",
    "# with open('multilingual_embedding.py', 'w') as f:\n",
    "#     f.write(r.text)\n",
    "# "
   ]
  },
  {
   "cell_type": "code",
   "execution_count": 24,
   "metadata": {},
   "outputs": [],
   "source": [
    "from multilingual_embedding import MultiLingualEmbedding\n",
    "\n",
    "model_name = \"intfloat/multilingual-e5-small\"\n",
    "embed_model = MultiLingualEmbedding(embed_batch_size=10, model_name=model_name)"
   ]
  },
  {
   "cell_type": "code",
   "execution_count": 25,
   "metadata": {},
   "outputs": [],
   "source": [
    "_ = load_dotenv(find_dotenv())\n",
    "openai.api_key = os.environ['OPENAI_API_KEY']\n"
   ]
  },
  {
   "cell_type": "code",
   "execution_count": 26,
   "metadata": {},
   "outputs": [],
   "source": [
    "from qdrant_client import QdrantClient\n",
    "from llama_index.core import ServiceContext, set_global_service_context\n",
    "\n",
    "qdrant_client = QdrantClient(\":memory:\") # Create in-memory Qdrant instance, for testing\n",
    "\n",
    "# Setup the multilingual-e5-model as the default embedding model\n",
    "service_context = ServiceContext.from_defaults(\n",
    "        chunk_size=5000,\n",
    "        embed_model=embed_model\n",
    "    )\n",
    "\n",
    "# Set a global service context\n",
    "set_global_service_context(service_context)"
   ]
  },
  {
   "cell_type": "code",
   "execution_count": 27,
   "metadata": {},
   "outputs": [],
   "source": [
    "from llama_index.core import StorageContext\n",
    "from llama_index.vector_stores.qdrant import QdrantVectorStore\n",
    "\n",
    "qdrant_vector_store = QdrantVectorStore(client=qdrant_client, collection_name=\"SQuAD_dogs\", batch_size=10)\n",
    "\n",
    "# construct vector store and customize storage context\n",
    "storage_context = StorageContext.from_defaults(\n",
    "    vector_store=qdrant_vector_store\n",
    ")"
   ]
  },
  {
   "cell_type": "code",
   "execution_count": 28,
   "metadata": {},
   "outputs": [
    {
     "name": "stderr",
     "output_type": "stream",
     "text": [
      "Parsing nodes: 100%|██████████| 392/392 [00:00<00:00, 5091.99it/s]\n",
      "Generating embeddings: 100%|██████████| 392/392 [00:07<00:00, 53.49it/s]\n"
     ]
    }
   ],
   "source": [
    "from llama_index.core import VectorStoreIndex\n",
    "\n",
    "index = VectorStoreIndex.from_documents(documents=documents, storage_context=storage_context, show_progress=True)"
   ]
  },
  {
   "cell_type": "code",
   "execution_count": 29,
   "metadata": {},
   "outputs": [
    {
     "data": {
      "text/html": [
       "<div>\n",
       "<style scoped>\n",
       "    .dataframe tbody tr th:only-of-type {\n",
       "        vertical-align: middle;\n",
       "    }\n",
       "\n",
       "    .dataframe tbody tr th {\n",
       "        vertical-align: top;\n",
       "    }\n",
       "\n",
       "    .dataframe thead th {\n",
       "        text-align: right;\n",
       "    }\n",
       "</style>\n",
       "<table border=\"1\" class=\"dataframe\">\n",
       "  <thead>\n",
       "    <tr style=\"text-align: right;\">\n",
       "      <th></th>\n",
       "      <th>original_question</th>\n",
       "      <th>new_question</th>\n",
       "      <th>new_question_answer</th>\n",
       "      <th>matching_score</th>\n",
       "    </tr>\n",
       "  </thead>\n",
       "  <tbody>\n",
       "    <tr>\n",
       "      <th>0</th>\n",
       "      <td>What alternative word can be used to mean dome...</td>\n",
       "      <td>What is the three word Latin name for domestic...</td>\n",
       "      <td>Canis lupus familiaris</td>\n",
       "      <td>0.885335</td>\n",
       "    </tr>\n",
       "    <tr>\n",
       "      <th>1</th>\n",
       "      <td>What alternative word can be used to mean dome...</td>\n",
       "      <td>Dog could also come from the original layer of...</td>\n",
       "      <td>Proto-Indo-European</td>\n",
       "      <td>0.876147</td>\n",
       "    </tr>\n",
       "  </tbody>\n",
       "</table>\n",
       "</div>"
      ],
      "text/plain": [
       "                                   original_question  \\\n",
       "0  What alternative word can be used to mean dome...   \n",
       "1  What alternative word can be used to mean dome...   \n",
       "\n",
       "                                        new_question     new_question_answer  \\\n",
       "0  What is the three word Latin name for domestic...  Canis lupus familiaris   \n",
       "1  Dog could also come from the original layer of...     Proto-Indo-European   \n",
       "\n",
       "   matching_score  \n",
       "0        0.885335  \n",
       "1        0.876147  "
      ]
     },
     "execution_count": 29,
     "metadata": {},
     "output_type": "execute_result"
    }
   ],
   "source": [
    "retriever = index.as_retriever(similarity_top_k=2)\n",
    "original_question = \"What alternative word can be used to mean domestic dog?\"\n",
    "nodes = retriever.retrieve(original_question)\n",
    "\n",
    "\n",
    "lst =[]\n",
    "for node in nodes:   \n",
    "   lst.append({'original_question': original_question,'new_question': node.text, 'new_question_answer': node.metadata[\"answer\"], 'matching_score': node.score})\n",
    "\n",
    "df_new = pd.DataFrame(lst)\n",
    "df_new\n"
   ]
  },
  {
   "cell_type": "code",
   "execution_count": null,
   "metadata": {},
   "outputs": [],
   "source": []
  }
 ],
 "metadata": {
  "kernelspec": {
   "display_name": ".venv",
   "language": "python",
   "name": "python3"
  },
  "language_info": {
   "codemirror_mode": {
    "name": "ipython",
    "version": 3
   },
   "file_extension": ".py",
   "mimetype": "text/x-python",
   "name": "python",
   "nbconvert_exporter": "python",
   "pygments_lexer": "ipython3",
   "version": "3.9.6"
  }
 },
 "nbformat": 4,
 "nbformat_minor": 2
}
